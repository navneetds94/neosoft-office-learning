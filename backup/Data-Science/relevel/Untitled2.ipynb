{
 "cells": [
  {
   "cell_type": "code",
   "execution_count": 1,
   "id": "4db7c488",
   "metadata": {},
   "outputs": [
    {
     "data": {
      "text/plain": [
       "'wWW.hACKERrANK.COM'"
      ]
     },
     "execution_count": 1,
     "metadata": {},
     "output_type": "execute_result"
    }
   ],
   "source": [
    "def swap(string):\n",
    "    new_char = \"\"\n",
    "    for i in range(len(string)):\n",
    "        if string[i] == string[i].upper():\n",
    "                new_character = string[i].lower()\n",
    "                new_char += new_character\n",
    "        else:\n",
    "            new_character = string[i].upper()\n",
    "            new_char += new_character\n",
    "    return new_char\n",
    "swap('Www.HackerRank.com')"
   ]
  },
  {
   "cell_type": "code",
   "execution_count": null,
   "id": "f76f7e20",
   "metadata": {},
   "outputs": [],
   "source": []
  },
  {
   "cell_type": "code",
   "execution_count": 2,
   "id": "e89c3cc7",
   "metadata": {},
   "outputs": [
    {
     "data": {
      "text/plain": [
       "'this-is-a-string'"
      ]
     },
     "execution_count": 2,
     "metadata": {},
     "output_type": "execute_result"
    }
   ],
   "source": [
    "def split_and_join(string):\n",
    "    split_str = string.split(\" \")\n",
    "    new_string = \"-\".join(split_str)\n",
    "    return new_string\n",
    "split_and_join(\"this is a string\")"
   ]
  },
  {
   "cell_type": "code",
   "execution_count": null,
   "id": "886bf5ef",
   "metadata": {},
   "outputs": [],
   "source": []
  },
  {
   "cell_type": "code",
   "execution_count": 3,
   "id": "fdddc476",
   "metadata": {},
   "outputs": [
    {
     "data": {
      "text/plain": [
       "'Hello Navneet Taneja! You just delved into python.'"
      ]
     },
     "execution_count": 3,
     "metadata": {},
     "output_type": "execute_result"
    }
   ],
   "source": [
    "def print_full_name(first, last):\n",
    "    # Write your code here\n",
    "    return 'Hello ' + first + ' ' + last + '! You just delved into python.'\n",
    "print_full_name('Navneet','Taneja')"
   ]
  },
  {
   "cell_type": "code",
   "execution_count": null,
   "id": "2e419b59",
   "metadata": {},
   "outputs": [],
   "source": []
  },
  {
   "cell_type": "code",
   "execution_count": 4,
   "id": "e5c9d386",
   "metadata": {},
   "outputs": [
    {
     "data": {
      "text/plain": [
       "'helro'"
      ]
     },
     "execution_count": 4,
     "metadata": {},
     "output_type": "execute_result"
    }
   ],
   "source": [
    "def mutate_string(string, position, character):\n",
    "    str_list = list(string)\n",
    "    str_list[position] = character\n",
    "    return ''.join(str_list)\n",
    "mutate_string('hello',3,'r')"
   ]
  },
  {
   "cell_type": "code",
   "execution_count": null,
   "id": "4691ee6d",
   "metadata": {},
   "outputs": [],
   "source": []
  },
  {
   "cell_type": "code",
   "execution_count": 5,
   "id": "e5808ac0",
   "metadata": {},
   "outputs": [
    {
     "name": "stdout",
     "output_type": "stream",
     "text": [
      "0.500000\n",
      "0.333333\n",
      "0.166667\n"
     ]
    }
   ],
   "source": [
    "arr = [-4,3,-9,0,4,1]\n",
    "def plusMinus(arr):\n",
    "    positive = []\n",
    "    negative = []\n",
    "    zero = []\n",
    "    for i in arr:\n",
    "        if i == 0:\n",
    "            zero.append(i)\n",
    "        elif i > 0:\n",
    "            positive.append(i)\n",
    "        else:\n",
    "            negative.append(i)\n",
    "    positive_ratio = len(positive) / len(arr)\n",
    "    negative_ratio = len(negative) / len(arr)\n",
    "    zero_ration = len(zero) / len(arr)\n",
    "    print(\"{:.6f}\".format(positive_ratio))\n",
    "    print(\"{:.6f}\".format(negative_ratio))\n",
    "    print(\"{:.6f}\".format(zero_ration))\n",
    "\n",
    "plusMinus(arr)"
   ]
  },
  {
   "cell_type": "code",
   "execution_count": null,
   "id": "62f39ec5",
   "metadata": {},
   "outputs": [],
   "source": []
  },
  {
   "cell_type": "code",
   "execution_count": 6,
   "id": "a9a094bf",
   "metadata": {},
   "outputs": [],
   "source": [
    "arr = [1,3,5,7,9]\n",
    "def TwoD_Convertor(arr,position):\n",
    "    two_d = [arr[position],[]]\n",
    "    for i in range(len(arr)):\n",
    "        if i != position:\n",
    "                   two_d[1].append(arr[i])\n",
    "    return two_d"
   ]
  },
  {
   "cell_type": "code",
   "execution_count": 7,
   "id": "e9a3abfe",
   "metadata": {},
   "outputs": [
    {
     "data": {
      "text/plain": [
       "[1, [3, 5, 7, 9]]"
      ]
     },
     "execution_count": 7,
     "metadata": {},
     "output_type": "execute_result"
    }
   ],
   "source": [
    "check = TwoD_Convertor(arr,0)\n",
    "check"
   ]
  },
  {
   "cell_type": "code",
   "execution_count": 8,
   "id": "9a8b1495",
   "metadata": {},
   "outputs": [],
   "source": [
    "# class a:\n",
    "#     def __init__(self,name,age):\n",
    "#         self.name = name\n",
    "#         self.age = age\n",
    "#     def getVals(self):\n",
    "#         return f'{self.name}  {self.age}'"
   ]
  },
  {
   "cell_type": "code",
   "execution_count": 9,
   "id": "db804e7a",
   "metadata": {},
   "outputs": [],
   "source": [
    "# obj1 = a(\"Navneet\",100)"
   ]
  },
  {
   "cell_type": "code",
   "execution_count": 10,
   "id": "784ab2c3",
   "metadata": {},
   "outputs": [],
   "source": [
    "# obj1.getVals()"
   ]
  },
  {
   "cell_type": "code",
   "execution_count": 16,
   "id": "b995d20d",
   "metadata": {},
   "outputs": [
    {
     "name": "stdout",
     "output_type": "stream",
     "text": [
      "Please Enter Number :- 9\n",
      "         1\n",
      "        12\n",
      "       123\n",
      "      1234\n",
      "     12345\n",
      "    123456\n",
      "   1234567\n",
      "  12345678\n",
      " 123456789\n"
     ]
    }
   ],
   "source": [
    "num = int(input(\"Please Enter Number :- \"))\n",
    "def patternFunc(n):\n",
    "    cur_num = 1\n",
    "    for k in range(n+1-1,0,-1):\n",
    "        print(' '*k,end=\"\")\n",
    "        for i in range(0,n):\n",
    "            if (i+1 <= cur_num):\n",
    "                print(i+1,end=\"\")\n",
    "        print()\n",
    "        cur_num+=1\n",
    "if n<10:\n",
    "    patternFunc(num)\n",
    "else:\n",
    "    print('Re-Run')"
   ]
  }
 ],
 "metadata": {
  "kernelspec": {
   "display_name": "Python 3 (ipykernel)",
   "language": "python",
   "name": "python3"
  },
  "language_info": {
   "codemirror_mode": {
    "name": "ipython",
    "version": 3
   },
   "file_extension": ".py",
   "mimetype": "text/x-python",
   "name": "python",
   "nbconvert_exporter": "python",
   "pygments_lexer": "ipython3",
   "version": "3.9.13"
  }
 },
 "nbformat": 4,
 "nbformat_minor": 5
}
