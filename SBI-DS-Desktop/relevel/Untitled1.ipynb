{
 "cells": [
  {
   "cell_type": "code",
   "execution_count": 1,
   "id": "5245b8c2",
   "metadata": {},
   "outputs": [],
   "source": [
    "def func(v1,v2,v3):\n",
    "    return v1+v2+v3"
   ]
  },
  {
   "cell_type": "code",
   "execution_count": 5,
   "id": "1bc0b421",
   "metadata": {},
   "outputs": [
    {
     "name": "stdout",
     "output_type": "stream",
     "text": [
      "rge342sggg\n"
     ]
    }
   ],
   "source": [
    "print(func('rge','342s','ggg'))"
   ]
  }
 ],
 "metadata": {
  "kernelspec": {
   "display_name": "Python 3 (ipykernel)",
   "language": "python",
   "name": "python3"
  },
  "language_info": {
   "codemirror_mode": {
    "name": "ipython",
    "version": 3
   },
   "file_extension": ".py",
   "mimetype": "text/x-python",
   "name": "python",
   "nbconvert_exporter": "python",
   "pygments_lexer": "ipython3",
   "version": "3.9.13"
  }
 },
 "nbformat": 4,
 "nbformat_minor": 5
}
